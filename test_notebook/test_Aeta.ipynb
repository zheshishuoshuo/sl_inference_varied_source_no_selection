{
 "cells": [
  {
   "cell_type": "code",
   "execution_count": 2,
   "id": "bed48051",
   "metadata": {},
   "outputs": [],
   "source": [
    "import sys\n",
    "sys.path.append(\"../../\")  "
   ]
  },
  {
   "cell_type": "code",
   "execution_count": 10,
   "id": "6fe43861",
   "metadata": {},
   "outputs": [],
   "source": [
    "from sl_inference_restart.norm_computer.compute_norm_grid import compute_A_phys_eta, single_A_eta_entry, build_A_phys_table_parallel_4D, generate_lens_samples_no_alpha\n",
    "import numpy as np"
   ]
  },
  {
   "cell_type": "code",
   "execution_count": 4,
   "id": "bd3fe7d2",
   "metadata": {},
   "outputs": [
    {
     "name": "stdout",
     "output_type": "stream",
     "text": [
      "{'mu_DM': 12.91, 'sigma_DM': 0.37, 'beta_DM': 2.04, 'xi_DM': 0, 'A_phys': 1.1317218922350099}\n"
     ]
    }
   ],
   "source": [
    "# uDM, sigmaDM, beta_DM, xi_DM, n_samples, n_sigma\n",
    "Aeta = single_A_eta_entry([12.91, 0.37, 2.04, 0, 1000, 3])\n",
    "print(Aeta)"
   ]
  },
  {
   "cell_type": "code",
   "execution_count": 5,
   "id": "ca777a6e",
   "metadata": {},
   "outputs": [],
   "source": [
    "# def compute_A_phys_eta(mu_DM_cnst, beta_DM, xi_DM, sigma_DM, samples, Mh_range,\n",
    "#                        zl=0.3, zs=2.0, ms=26.0, sigma_m=0.1, m_lim=26.5):"
   ]
  },
  {
   "cell_type": "code",
   "execution_count": 6,
   "id": "7d111646",
   "metadata": {},
   "outputs": [
    {
     "name": "stdout",
     "output_type": "stream",
     "text": [
      "[INFO] 已完成 0 个点，将跳过这些\n",
      "[INFO] 共需计算 1000 个 A(eta) 点\n"
     ]
    },
    {
     "name": "stderr",
     "output_type": "stream",
     "text": [
      "100%|██████████| 1000/1000 [02:14<00:00,  7.45it/s]\n"
     ]
    },
    {
     "name": "stdout",
     "output_type": "stream",
     "text": [
      "[INFO] 所有任务完成，结果已保存到 A_phys_table_4D_test.csv\n"
     ]
    }
   ],
   "source": [
    "\n",
    "muDM_grid    = np.linspace(12, 13, 10)      # Δμ = 0.0345\n",
    "sigmaDM_grid = np.linspace(0.1, 0.5, 10)    # Δσ = 0.0138\n",
    "betaDM_grid  = np.linspace(1.0, 3.0, 10)    # Δβ = 0.069\n",
    "xiDM_grid    = 0                            # 固定为 0\n",
    "\n",
    "\n",
    "build_A_phys_table_parallel_4D(\n",
    "    muDM_grid, sigmaDM_grid, betaDM_grid, xiDM_grid,\n",
    "    n_samples=500,\n",
    "    filename=\"A_phys_table_4D_test.csv\",\n",
    "    nproc=3,\n",
    ")"
   ]
  },
  {
   "cell_type": "code",
   "execution_count": 7,
   "id": "d4c78500",
   "metadata": {},
   "outputs": [],
   "source": [
    "import pandas as pd\n",
    "A_phys_table = pd.read_csv(\"../tables/A_phys_table_4D_test.csv\")"
   ]
  },
  {
   "cell_type": "code",
   "execution_count": 8,
   "id": "f248e52c",
   "metadata": {},
   "outputs": [],
   "source": [
    "from scipy.interpolate import RegularGridInterpolator\n",
    "import numpy as np\n",
    "import pandas as pd\n",
    "\n",
    "# 读取表格\n",
    "df = pd.read_csv(\"../tables/A_phys_table_4D_test.csv\")\n",
    "\n",
    "# 提取唯一网格点（必须是升序）\n",
    "mu_grid    = np.sort(df['mu_DM'].unique())\n",
    "sigma_grid = np.sort(df['sigma_DM'].unique())\n",
    "beta_grid  = np.sort(df['beta_DM'].unique())\n",
    "xi_grid    = np.sort(df['xi_DM'].unique())\n",
    "\n",
    "# reshape A_phys 为 4D 网格\n",
    "shape = (len(mu_grid), len(sigma_grid), len(beta_grid), len(xi_grid))\n",
    "A_vals = df.sort_values(['mu_DM', 'sigma_DM', 'beta_DM', 'xi_DM'])['A_phys'].values\n",
    "A_grid = A_vals.reshape(shape)\n",
    "\n",
    "# 构造插值器\n",
    "A_interp = RegularGridInterpolator(\n",
    "    (mu_grid, sigma_grid, beta_grid, xi_grid),\n",
    "    A_grid,\n",
    "    bounds_error=False,\n",
    "    fill_value=None\n",
    ")\n"
   ]
  },
  {
   "cell_type": "code",
   "execution_count": 11,
   "id": "98292bb7",
   "metadata": {},
   "outputs": [
    {
     "name": "stdout",
     "output_type": "stream",
     "text": [
      "A_interp = 1.04067, A_true = 1.18534, relative error = 12.205%\n"
     ]
    }
   ],
   "source": [
    "# from your_module import compute_A_phys_eta, generate_lens_samples_no_alpha\n",
    "\n",
    "# 举例选一个测试点\n",
    "mu_test = 12.5\n",
    "sigma_test = 0.3\n",
    "beta_test = 1.5\n",
    "xi_test = 0.0\n",
    "\n",
    "# 插值器预测值\n",
    "A_interp_val = A_interp([[mu_test, sigma_test, beta_test, xi_test]])[0]\n",
    "\n",
    "# 真值（重新生成样本再计算）\n",
    "samples, Mh_range = generate_lens_samples_no_alpha(\n",
    "    n_samples=1000, mu_DM=mu_test, sigma_DM=sigma_test\n",
    ")\n",
    "A_true = compute_A_phys_eta(mu_test, beta_test, xi_test, sigma_test, samples, Mh_range)\n",
    "\n",
    "# 比较误差\n",
    "rel_error = abs(A_interp_val - A_true) / A_true\n",
    "print(f\"A_interp = {A_interp_val:.5f}, A_true = {A_true:.5f}, relative error = {rel_error:.3%}\")\n"
   ]
  },
  {
   "cell_type": "code",
   "execution_count": 14,
   "id": "4f3bec8b",
   "metadata": {},
   "outputs": [
    {
     "name": "stderr",
     "output_type": "stream",
     "text": [
      "/opt/anaconda3/lib/python3.12/site-packages/IPython/core/pylabtools.py:170: UserWarning: Glyph 25554 (\\N{CJK UNIFIED IDEOGRAPH-63D2}) missing from current font.\n",
      "  fig.canvas.print_figure(bytes_io, **kw)\n",
      "/opt/anaconda3/lib/python3.12/site-packages/IPython/core/pylabtools.py:170: UserWarning: Glyph 20540 (\\N{CJK UNIFIED IDEOGRAPH-503C}) missing from current font.\n",
      "  fig.canvas.print_figure(bytes_io, **kw)\n",
      "/opt/anaconda3/lib/python3.12/site-packages/IPython/core/pylabtools.py:170: UserWarning: Glyph 30495 (\\N{CJK UNIFIED IDEOGRAPH-771F}) missing from current font.\n",
      "  fig.canvas.print_figure(bytes_io, **kw)\n",
      "/opt/anaconda3/lib/python3.12/site-packages/IPython/core/pylabtools.py:170: UserWarning: Glyph 65306 (\\N{FULLWIDTH COLON}) missing from current font.\n",
      "  fig.canvas.print_figure(bytes_io, **kw)\n",
      "/opt/anaconda3/lib/python3.12/site-packages/IPython/core/pylabtools.py:170: UserWarning: Glyph 30456 (\\N{CJK UNIFIED IDEOGRAPH-76F8}) missing from current font.\n",
      "  fig.canvas.print_figure(bytes_io, **kw)\n",
      "/opt/anaconda3/lib/python3.12/site-packages/IPython/core/pylabtools.py:170: UserWarning: Glyph 23545 (\\N{CJK UNIFIED IDEOGRAPH-5BF9}) missing from current font.\n",
      "  fig.canvas.print_figure(bytes_io, **kw)\n",
      "/opt/anaconda3/lib/python3.12/site-packages/IPython/core/pylabtools.py:170: UserWarning: Glyph 35823 (\\N{CJK UNIFIED IDEOGRAPH-8BEF}) missing from current font.\n",
      "  fig.canvas.print_figure(bytes_io, **kw)\n",
      "/opt/anaconda3/lib/python3.12/site-packages/IPython/core/pylabtools.py:170: UserWarning: Glyph 24046 (\\N{CJK UNIFIED IDEOGRAPH-5DEE}) missing from current font.\n",
      "  fig.canvas.print_figure(bytes_io, **kw)\n",
      "/opt/anaconda3/lib/python3.12/site-packages/IPython/core/pylabtools.py:170: UserWarning: Glyph 26354 (\\N{CJK UNIFIED IDEOGRAPH-66F2}) missing from current font.\n",
      "  fig.canvas.print_figure(bytes_io, **kw)\n",
      "/opt/anaconda3/lib/python3.12/site-packages/IPython/core/pylabtools.py:170: UserWarning: Glyph 32447 (\\N{CJK UNIFIED IDEOGRAPH-7EBF}) missing from current font.\n",
      "  fig.canvas.print_figure(bytes_io, **kw)\n"
     ]
    },
    {
     "data": {
      "image/png": "[encoded data removed]",
      "text/plain": [
       "<Figure size 640x480 with 1 Axes>"
      ]
     },
     "metadata": {},
     "output_type": "display_data"
    }
   ],
   "source": [
    "import matplotlib.pyplot as plt\n",
    "%matplotlib inline\n",
    "mu_tests = np.linspace(12.0, 13.0, 10)\n",
    "errors = []\n",
    "\n",
    "for mu in mu_tests:\n",
    "    samples, Mh_range = generate_lens_samples_no_alpha(n_samples=1000, mu_DM=mu, sigma_DM=0.3)\n",
    "    A_true = compute_A_phys_eta(mu, 2.0, 0.0, 0.3, samples, Mh_range)\n",
    "    A_interp_val = A_interp([[mu, 0.3, 2.0, 0.0]])[0]\n",
    "    rel_err = abs(A_true - A_interp_val) / A_true\n",
    "    errors.append(rel_err)\n",
    "\n",
    "plt.plot(mu_tests, errors, marker='o')\n",
    "plt.xlabel(\"mu_DM\")\n",
    "plt.ylabel(\"Relative error in A_phys\")\n",
    "plt.title(\"插值 vs 真值：相对误差曲线\")\n",
    "plt.grid(True)\n",
    "plt.show()\n"
   ]
  },
  {
   "cell_type": "code",
   "execution_count": 16,
   "id": "10a28f66",
   "metadata": {},
   "outputs": [
    {
     "data": {
      "image/png": "[encoded data removed]",
      "text/plain": [
       "<Figure size 800x600 with 1 Axes>"
      ]
     },
     "metadata": {},
     "output_type": "display_data"
    }
   ],
   "source": [
    "\n",
    "# === 5. Fix beta_DM and xi_DM，展示 mu vs sigma 的 2D 平面 ===\n",
    "beta_fixed = 2.0\n",
    "xi_fixed   = 0.0\n",
    "\n",
    "# 构造二维网格点\n",
    "MU, SIGMA = np.meshgrid(mu_grid, sigma_grid, indexing='ij')\n",
    "points_2d = np.stack([MU.ravel(), SIGMA.ravel(), \n",
    "                      np.full(MU.size, beta_fixed), \n",
    "                      np.full(MU.size, xi_fixed)], axis=-1)\n",
    "\n",
    "A_interp_vals = A_interp(points_2d).reshape(MU.shape)\n",
    "\n",
    "# === 6. 可视化 ===\n",
    "plt.figure(figsize=(8, 6))\n",
    "im = plt.imshow(\n",
    "    A_interp_vals,\n",
    "    extent=[sigma_grid[0], sigma_grid[-1], mu_grid[0], mu_grid[-1]],\n",
    "    aspect='auto',\n",
    "    origin='lower',\n",
    "    cmap='viridis'\n",
    ")\n",
    "# plt.colorbar(im, label=r\"$A_{\\rm phys}$\")\n",
    "# plt.xlabel(r\"$\\sigma_{\\rm DM}$\")\n",
    "# plt.ylabel(r\"$\\mu_{\\rm DM}$\")\n",
    "# plt.title(rf\"$A_{\\rm phys}(\\mu, \\sigma)$ at $\\beta={beta_fixed}, \\xi={xi_fixed}$\")\n",
    "plt.tight_layout()\n",
    "plt.show()"
   ]
  },
  {
   "cell_type": "code",
   "execution_count": null,
   "id": "deb7f926",
   "metadata": {},
   "outputs": [],
   "source": []
  }
 ],
 "metadata": {
  "kernelspec": {
   "display_name": "base",
   "language": "python",
   "name": "python3"
  },
  "language_info": {
   "codemirror_mode": {
    "name": "ipython",
    "version": 3
   },
   "file_extension": ".py",
   "mimetype": "text/x-python",
   "name": "python",
   "nbconvert_exporter": "python",
   "pygments_lexer": "ipython3",
   "version": "3.12.2"
  }
 },
 "nbformat": 4,
 "nbformat_minor": 5
}
